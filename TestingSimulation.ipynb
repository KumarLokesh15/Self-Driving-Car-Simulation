{
 "cells": [
  {
   "cell_type": "code",
   "execution_count": 1,
   "id": "45debf46",
   "metadata": {
    "ExecuteTime": {
     "end_time": "2022-06-20T20:17:06.975388Z",
     "start_time": "2022-06-20T20:16:59.029260Z"
    }
   },
   "outputs": [
    {
     "name": "stdout",
     "output_type": "stream",
     "text": [
      "Setting UP\n"
     ]
    }
   ],
   "source": [
    "print('Setting UP')\n",
    "import os\n",
    "os.environ['TF_CPP_MIN_LOG_LEVEL'] = '3'\n",
    "import socketio\n",
    "import eventlet\n",
    "import numpy as np\n",
    "from flask import Flask\n",
    "from tensorflow.keras.models import load_model\n",
    "import base64\n",
    "from io import BytesIO\n",
    "from PIL import Image\n",
    "import cv2"
   ]
  },
  {
   "cell_type": "code",
   "execution_count": 2,
   "id": "d3769795",
   "metadata": {
    "ExecuteTime": {
     "end_time": "2022-06-20T20:17:07.005585Z",
     "start_time": "2022-06-20T20:17:06.975388Z"
    }
   },
   "outputs": [],
   "source": [
    "#### FOR REAL TIME COMMUNICATION BETWEEN CLIENT AND SERVER\n",
    "sio = socketio.Server()\n",
    "#### FLASK IS A MICRO WEB FRAMEWORK WRITTEN IN PYTHON\n",
    "app = Flask(__name__)  # '__main__'\n",
    " \n",
    "maxSpeed = 10"
   ]
  },
  {
   "cell_type": "code",
   "execution_count": 3,
   "id": "a75d74b5",
   "metadata": {
    "ExecuteTime": {
     "end_time": "2022-06-20T20:17:07.021284Z",
     "start_time": "2022-06-20T20:17:07.006940Z"
    }
   },
   "outputs": [],
   "source": [
    "def preProcess(img):\n",
    "    img = img[60:135,:,:]\n",
    "    img = cv2.cvtColor(img, cv2.COLOR_RGB2YUV)\n",
    "    img = cv2.GaussianBlur(img,  (3, 3), 0)\n",
    "    img = cv2.resize(img, (200, 66))\n",
    "    img = img/255\n",
    "    return img"
   ]
  },
  {
   "cell_type": "code",
   "execution_count": 4,
   "id": "f0c2377c",
   "metadata": {
    "ExecuteTime": {
     "end_time": "2022-06-20T20:17:07.036567Z",
     "start_time": "2022-06-20T20:17:07.023053Z"
    }
   },
   "outputs": [],
   "source": [
    "@sio.on('telemetry')\n",
    "def telemetry(sid, data):\n",
    "    speed = float(data['speed'])\n",
    "    image = Image.open(BytesIO(base64.b64decode(data['image'])))\n",
    "    image = np.asarray(image)\n",
    "    image = preProcess(image)\n",
    "    image = np.array([image])\n",
    "    steering = float(model.predict(image))\n",
    "    throttle = 1.0 - speed / maxSpeed\n",
    "    print(f'{steering}, {throttle}, {speed}')\n",
    "    sendControl(steering, throttle)"
   ]
  },
  {
   "cell_type": "code",
   "execution_count": 5,
   "id": "9e49ffd8",
   "metadata": {
    "ExecuteTime": {
     "end_time": "2022-06-20T20:17:07.051616Z",
     "start_time": "2022-06-20T20:17:07.040573Z"
    }
   },
   "outputs": [],
   "source": [
    "@sio.on('connect')\n",
    "def connect(sid, environ):\n",
    "    print('Connected')\n",
    "    sendControl(0, 0)"
   ]
  },
  {
   "cell_type": "code",
   "execution_count": 6,
   "id": "2e94ff24",
   "metadata": {
    "ExecuteTime": {
     "end_time": "2022-06-20T20:17:07.067224Z",
     "start_time": "2022-06-20T20:17:07.053539Z"
    }
   },
   "outputs": [],
   "source": [
    "def sendControl(steering, throttle):\n",
    "    sio.emit('steer', data={\n",
    "        'steering_angle': steering.__str__(),\n",
    "        'throttle': throttle.__str__()\n",
    "    })"
   ]
  },
  {
   "cell_type": "code",
   "execution_count": null,
   "id": "4536bc25",
   "metadata": {
    "ExecuteTime": {
     "start_time": "2022-06-20T20:16:59.031Z"
    }
   },
   "outputs": [
    {
     "name": "stderr",
     "output_type": "stream",
     "text": [
      "(6456) wsgi starting up on http://0.0.0.0:4567\n"
     ]
    }
   ],
   "source": [
    "if __name__ == '__main__':\n",
    "    model = load_model('model.h5')\n",
    "    app = socketio.Middleware(sio, app)\n",
    "    ### LISTEN TO PORT 4567\n",
    "    eventlet.wsgi.server(eventlet.listen(('', 4567)), app)"
   ]
  },
  {
   "cell_type": "code",
   "execution_count": null,
   "id": "457f9b24",
   "metadata": {},
   "outputs": [],
   "source": []
  }
 ],
 "metadata": {
  "kernelspec": {
   "display_name": "Python 3",
   "language": "python",
   "name": "python3"
  },
  "language_info": {
   "codemirror_mode": {
    "name": "ipython",
    "version": 3
   },
   "file_extension": ".py",
   "mimetype": "text/x-python",
   "name": "python",
   "nbconvert_exporter": "python",
   "pygments_lexer": "ipython3",
   "version": "3.8.8"
  },
  "toc": {
   "base_numbering": 1,
   "nav_menu": {},
   "number_sections": true,
   "sideBar": true,
   "skip_h1_title": false,
   "title_cell": "Table of Contents",
   "title_sidebar": "Contents",
   "toc_cell": false,
   "toc_position": {},
   "toc_section_display": true,
   "toc_window_display": false
  },
  "varInspector": {
   "cols": {
    "lenName": 16,
    "lenType": 16,
    "lenVar": 40
   },
   "kernels_config": {
    "python": {
     "delete_cmd_postfix": "",
     "delete_cmd_prefix": "del ",
     "library": "var_list.py",
     "varRefreshCmd": "print(var_dic_list())"
    },
    "r": {
     "delete_cmd_postfix": ") ",
     "delete_cmd_prefix": "rm(",
     "library": "var_list.r",
     "varRefreshCmd": "cat(var_dic_list()) "
    }
   },
   "types_to_exclude": [
    "module",
    "function",
    "builtin_function_or_method",
    "instance",
    "_Feature"
   ],
   "window_display": false
  }
 },
 "nbformat": 4,
 "nbformat_minor": 5
}
